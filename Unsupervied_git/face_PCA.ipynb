{
 "cells": [
  {
   "cell_type": "code",
   "execution_count": 31,
   "metadata": {},
   "outputs": [
    {
     "data": {
      "text/plain": [
       "['s1',\n",
       " 's2',\n",
       " 's3',\n",
       " 's4',\n",
       " 's5',\n",
       " 's6',\n",
       " 's7',\n",
       " 's8',\n",
       " 's9',\n",
       " 's10',\n",
       " 's11',\n",
       " 's12',\n",
       " 's13',\n",
       " 's14',\n",
       " 's15',\n",
       " 's16',\n",
       " 's17',\n",
       " 's18',\n",
       " 's19',\n",
       " 's20',\n",
       " 's21',\n",
       " 's22',\n",
       " 's23',\n",
       " 's24',\n",
       " 's25',\n",
       " 's26',\n",
       " 's27',\n",
       " 's28',\n",
       " 's29',\n",
       " 's30',\n",
       " 's31',\n",
       " 's32',\n",
       " 's33',\n",
       " 's34',\n",
       " 's35',\n",
       " 's36',\n",
       " 's37',\n",
       " 's38',\n",
       " 's39',\n",
       " 's40']"
      ]
     },
     "execution_count": 31,
     "metadata": {},
     "output_type": "execute_result"
    }
   ],
   "source": [
    "# !pip install opencv-python\n",
    "import numpy as np\n",
    "import matplotlib.pyplot as plt\n",
    "import os\n",
    "import cv2\n",
    "\n",
    "DATADIR = \"face_data\"\n",
    "FOLDER =[]\n",
    "training_data=[]\n",
    "for i in range(1,41):\n",
    "    FOLDER.append(\"s\"+str(i))\n",
    "FOLDER\n",
    "    "
   ]
  },
  {
   "cell_type": "code",
   "execution_count": 32,
   "metadata": {},
   "outputs": [],
   "source": [
    "# !pip install tqdm\n",
    "from tqdm import tqdm\n"
   ]
  },
  {
   "cell_type": "code",
   "execution_count": 33,
   "metadata": {},
   "outputs": [],
   "source": [
    "#data loading\n",
    "def create_training_data():\n",
    "    for category in FOLDER:\n",
    "        path = os.path.join(DATADIR,category)\n",
    "        class_num = FOLDER.index(category)+1\n",
    "        for img in tqdm(os.listdir(path)):\n",
    "            try:\n",
    "                print(img)\n",
    "                img_array = cv2.imread(os.path.join(path,img),0)\n",
    "                training_data.append([img_array,class_num])\n",
    "            except Exception as e:\n",
    "                pass\n",
    "            "
   ]
  },
  {
   "cell_type": "code",
   "execution_count": 34,
   "metadata": {
    "scrolled": false
   },
   "outputs": [
    {
     "name": "stderr",
     "output_type": "stream",
     "text": [
      "\r",
      "  0%|                                                                                           | 0/10 [00:00<?, ?it/s]"
     ]
    },
    {
     "name": "stdout",
     "output_type": "stream",
     "text": [
      "1.pgm\n",
      "10.pgm\n",
      "2.pgm\n",
      "3.pgm\n",
      "4.pgm\n",
      "5.pgm\n",
      "6.pgm\n",
      "7.pgm\n",
      "8.pgm\n",
      "9.pgm\n"
     ]
    },
    {
     "name": "stderr",
     "output_type": "stream",
     "text": [
      "100%|██████████████████████████████████████████████████████████████████████████████████| 10/10 [00:00<00:00, 96.16it/s]\n",
      "  0%|                                                                                           | 0/10 [00:00<?, ?it/s]"
     ]
    },
    {
     "name": "stdout",
     "output_type": "stream",
     "text": [
      "1.pgm\n",
      "10.pgm\n",
      "2.pgm\n",
      "3.pgm\n",
      "4.pgm\n",
      "5.pgm\n",
      "6.pgm\n",
      "7.pgm\n",
      "8.pgm\n",
      "9.pgm\n"
     ]
    },
    {
     "name": "stderr",
     "output_type": "stream",
     "text": [
      "100%|█████████████████████████████████████████████████████████████████████████████████| 10/10 [00:00<00:00, 277.77it/s]\n",
      "  0%|                                                                                           | 0/10 [00:00<?, ?it/s]"
     ]
    },
    {
     "name": "stdout",
     "output_type": "stream",
     "text": [
      "1.pgm\n",
      "10.pgm\n",
      "2.pgm\n",
      "3.pgm\n",
      "4.pgm\n",
      "5.pgm\n",
      "6.pgm\n",
      "7.pgm\n",
      "8.pgm\n",
      "9.pgm\n"
     ]
    },
    {
     "name": "stderr",
     "output_type": "stream",
     "text": [
      "100%|█████████████████████████████████████████████████████████████████████████████████| 10/10 [00:00<00:00, 357.13it/s]\n",
      "  0%|                                                                                           | 0/10 [00:00<?, ?it/s]"
     ]
    },
    {
     "name": "stdout",
     "output_type": "stream",
     "text": [
      "1.pgm\n",
      "10.pgm\n",
      "2.pgm\n",
      "3.pgm\n",
      "4.pgm\n",
      "5.pgm\n",
      "6.pgm\n",
      "7.pgm\n",
      "8.pgm\n",
      "9.pgm\n"
     ]
    },
    {
     "name": "stderr",
     "output_type": "stream",
     "text": [
      "100%|█████████████████████████████████████████████████████████████████████████████████| 10/10 [00:00<00:00, 357.20it/s]\n",
      "  0%|                                                                                           | 0/10 [00:00<?, ?it/s]"
     ]
    },
    {
     "name": "stdout",
     "output_type": "stream",
     "text": [
      "1.pgm\n",
      "10.pgm\n",
      "2.pgm\n",
      "3.pgm\n",
      "4.pgm\n",
      "5.pgm\n",
      "6.pgm\n",
      "7.pgm\n",
      "8.pgm\n",
      "9.pgm\n"
     ]
    },
    {
     "name": "stderr",
     "output_type": "stream",
     "text": [
      "100%|█████████████████████████████████████████████████████████████████████████████████| 10/10 [00:00<00:00, 277.78it/s]\n",
      "  0%|                                                                                           | 0/10 [00:00<?, ?it/s]"
     ]
    },
    {
     "name": "stdout",
     "output_type": "stream",
     "text": [
      "1.pgm\n",
      "10.pgm\n",
      "2.pgm\n",
      "3.pgm\n",
      "4.pgm\n",
      "5.pgm\n",
      "6.pgm\n",
      "7.pgm\n",
      "8.pgm\n",
      "9.pgm\n"
     ]
    },
    {
     "name": "stderr",
     "output_type": "stream",
     "text": [
      "100%|█████████████████████████████████████████████████████████████████████████████████| 10/10 [00:00<00:00, 312.49it/s]\n",
      "  0%|                                                                                           | 0/10 [00:00<?, ?it/s]"
     ]
    },
    {
     "name": "stdout",
     "output_type": "stream",
     "text": [
      "1.pgm\n",
      "10.pgm\n",
      "2.pgm\n",
      "3.pgm\n",
      "4.pgm\n",
      "5.pgm\n",
      "6.pgm\n",
      "7.pgm\n",
      "8.pgm\n",
      "9.pgm\n"
     ]
    },
    {
     "name": "stderr",
     "output_type": "stream",
     "text": [
      "100%|█████████████████████████████████████████████████████████████████████████████████| 10/10 [00:00<00:00, 357.13it/s]\n",
      "  0%|                                                                                           | 0/10 [00:00<?, ?it/s]"
     ]
    },
    {
     "name": "stdout",
     "output_type": "stream",
     "text": [
      "1.pgm\n",
      "10.pgm\n",
      "2.pgm\n",
      "3.pgm\n",
      "4.pgm\n",
      "5.pgm\n",
      "6.pgm\n",
      "7.pgm\n",
      "8.pgm\n",
      "9.pgm\n"
     ]
    },
    {
     "name": "stderr",
     "output_type": "stream",
     "text": [
      "100%|█████████████████████████████████████████████████████████████████████████████████| 10/10 [00:00<00:00, 357.14it/s]\n",
      "  0%|                                                                                           | 0/10 [00:00<?, ?it/s]"
     ]
    },
    {
     "name": "stdout",
     "output_type": "stream",
     "text": [
      "1.pgm\n",
      "10.pgm\n",
      "2.pgm\n",
      "3.pgm\n",
      "4.pgm\n",
      "5.pgm\n",
      "6.pgm\n",
      "7.pgm\n",
      "8.pgm\n",
      "9.pgm\n"
     ]
    },
    {
     "name": "stderr",
     "output_type": "stream",
     "text": [
      "100%|█████████████████████████████████████████████████████████████████████████████████| 10/10 [00:00<00:00, 357.14it/s]\n",
      "  0%|                                                                                           | 0/10 [00:00<?, ?it/s]"
     ]
    },
    {
     "name": "stdout",
     "output_type": "stream",
     "text": [
      "1.pgm\n",
      "10.pgm\n",
      "2.pgm\n",
      "3.pgm\n",
      "4.pgm\n",
      "5.pgm\n",
      "6.pgm\n",
      "7.pgm\n",
      "8.pgm\n",
      "9.pgm\n"
     ]
    },
    {
     "name": "stderr",
     "output_type": "stream",
     "text": [
      "100%|█████████████████████████████████████████████████████████████████████████████████| 10/10 [00:00<00:00, 312.51it/s]\n",
      "  0%|                                                                                           | 0/10 [00:00<?, ?it/s]"
     ]
    },
    {
     "name": "stdout",
     "output_type": "stream",
     "text": [
      "1.pgm\n",
      "10.pgm\n",
      "2.pgm\n",
      "3.pgm\n",
      "4.pgm\n",
      "5.pgm\n",
      "6.pgm\n",
      "7.pgm\n",
      "8.pgm\n",
      "9.pgm\n"
     ]
    },
    {
     "name": "stderr",
     "output_type": "stream",
     "text": [
      "100%|█████████████████████████████████████████████████████████████████████████████████| 10/10 [00:00<00:00, 357.14it/s]\n",
      "  0%|                                                                                           | 0/10 [00:00<?, ?it/s]"
     ]
    },
    {
     "name": "stdout",
     "output_type": "stream",
     "text": [
      "1.pgm\n",
      "10.pgm\n",
      "2.pgm\n",
      "3.pgm\n",
      "4.pgm\n",
      "5.pgm\n",
      "6.pgm\n",
      "7.pgm\n",
      "8.pgm\n",
      "9.pgm\n"
     ]
    },
    {
     "name": "stderr",
     "output_type": "stream",
     "text": [
      "100%|█████████████████████████████████████████████████████████████████████████████████| 10/10 [00:00<00:00, 357.20it/s]\n",
      "  0%|                                                                                           | 0/10 [00:00<?, ?it/s]"
     ]
    },
    {
     "name": "stdout",
     "output_type": "stream",
     "text": [
      "1.pgm\n",
      "10.pgm\n",
      "2.pgm\n",
      "3.pgm\n",
      "4.pgm\n",
      "5.pgm\n",
      "6.pgm\n",
      "7.pgm\n",
      "8.pgm\n",
      "9.pgm\n"
     ]
    },
    {
     "name": "stderr",
     "output_type": "stream",
     "text": [
      "100%|█████████████████████████████████████████████████████████████████████████████████| 10/10 [00:00<00:00, 357.16it/s]\n",
      "  0%|                                                                                           | 0/10 [00:00<?, ?it/s]"
     ]
    },
    {
     "name": "stdout",
     "output_type": "stream",
     "text": [
      "1.pgm\n",
      "10.pgm\n",
      "2.pgm\n",
      "3.pgm\n",
      "4.pgm\n",
      "5.pgm\n",
      "6.pgm\n",
      "7.pgm\n",
      "8.pgm\n",
      "9.pgm\n"
     ]
    },
    {
     "name": "stderr",
     "output_type": "stream",
     "text": [
      "100%|█████████████████████████████████████████████████████████████████████████████████| 10/10 [00:00<00:00, 277.79it/s]\n",
      "  0%|                                                                                           | 0/10 [00:00<?, ?it/s]"
     ]
    },
    {
     "name": "stdout",
     "output_type": "stream",
     "text": [
      "1.pgm\n",
      "10.pgm\n",
      "2.pgm\n",
      "3.pgm\n",
      "4.pgm\n",
      "5.pgm\n",
      "6.pgm\n",
      "7.pgm\n",
      "8.pgm\n",
      "9.pgm\n"
     ]
    },
    {
     "name": "stderr",
     "output_type": "stream",
     "text": [
      "100%|█████████████████████████████████████████████████████████████████████████████████| 10/10 [00:00<00:00, 277.78it/s]\n",
      "  0%|                                                                                           | 0/10 [00:00<?, ?it/s]"
     ]
    },
    {
     "name": "stdout",
     "output_type": "stream",
     "text": [
      "1.pgm\n",
      "10.pgm\n",
      "2.pgm\n",
      "3.pgm\n",
      "4.pgm\n",
      "5.pgm\n",
      "6.pgm\n",
      "7.pgm\n",
      "8.pgm\n",
      "9.pgm\n"
     ]
    },
    {
     "name": "stderr",
     "output_type": "stream",
     "text": [
      "100%|█████████████████████████████████████████████████████████████████████████████████| 10/10 [00:00<00:00, 312.50it/s]\n",
      "  0%|                                                                                           | 0/10 [00:00<?, ?it/s]"
     ]
    },
    {
     "name": "stdout",
     "output_type": "stream",
     "text": [
      "1.pgm\n",
      "10.pgm\n",
      "2.pgm\n",
      "3.pgm\n",
      "4.pgm\n",
      "5.pgm\n",
      "6.pgm\n",
      "7.pgm\n",
      "8.pgm\n",
      "9.pgm\n"
     ]
    },
    {
     "name": "stderr",
     "output_type": "stream",
     "text": [
      "100%|█████████████████████████████████████████████████████████████████████████████████| 10/10 [00:00<00:00, 357.12it/s]\n",
      "  0%|                                                                                           | 0/10 [00:00<?, ?it/s]"
     ]
    },
    {
     "name": "stdout",
     "output_type": "stream",
     "text": [
      "1.pgm\n",
      "10.pgm\n",
      "2.pgm\n",
      "3.pgm\n",
      "4.pgm\n",
      "5.pgm\n",
      "6.pgm\n",
      "7.pgm\n",
      "8.pgm\n",
      "9.pgm\n"
     ]
    },
    {
     "name": "stderr",
     "output_type": "stream",
     "text": [
      "100%|█████████████████████████████████████████████████████████████████████████████████| 10/10 [00:00<00:00, 250.00it/s]\n",
      "  0%|                                                                                           | 0/10 [00:00<?, ?it/s]"
     ]
    },
    {
     "name": "stdout",
     "output_type": "stream",
     "text": [
      "1.pgm\n",
      "10.pgm\n",
      "2.pgm\n",
      "3.pgm\n",
      "4.pgm\n",
      "5.pgm\n",
      "6.pgm\n",
      "7.pgm\n",
      "8.pgm\n",
      "9.pgm\n"
     ]
    },
    {
     "name": "stderr",
     "output_type": "stream",
     "text": [
      "100%|█████████████████████████████████████████████████████████████████████████████████| 10/10 [00:00<00:00, 312.53it/s]\n",
      "  0%|                                                                                           | 0/10 [00:00<?, ?it/s]"
     ]
    },
    {
     "name": "stdout",
     "output_type": "stream",
     "text": [
      "1.pgm\n",
      "10.pgm\n",
      "2.pgm\n",
      "3.pgm\n",
      "4.pgm\n",
      "5.pgm\n",
      "6.pgm\n",
      "7.pgm\n",
      "8.pgm\n",
      "9.pgm\n"
     ]
    },
    {
     "name": "stderr",
     "output_type": "stream",
     "text": [
      "100%|█████████████████████████████████████████████████████████████████████████████████| 10/10 [00:00<00:00, 312.49it/s]\n",
      "  0%|                                                                                           | 0/10 [00:00<?, ?it/s]"
     ]
    },
    {
     "name": "stdout",
     "output_type": "stream",
     "text": [
      "1.pgm\n",
      "10.pgm\n",
      "2.pgm\n",
      "3.pgm\n",
      "4.pgm\n",
      "5.pgm\n",
      "6.pgm\n",
      "7.pgm\n",
      "8.pgm\n",
      "9.pgm\n"
     ]
    },
    {
     "name": "stderr",
     "output_type": "stream",
     "text": [
      "100%|█████████████████████████████████████████████████████████████████████████████████| 10/10 [00:00<00:00, 312.51it/s]\n",
      "  0%|                                                                                           | 0/10 [00:00<?, ?it/s]"
     ]
    },
    {
     "name": "stdout",
     "output_type": "stream",
     "text": [
      "1.pgm\n",
      "10.pgm\n",
      "2.pgm\n",
      "3.pgm\n",
      "4.pgm\n",
      "5.pgm\n",
      "6.pgm\n",
      "7.pgm\n",
      "8.pgm\n",
      "9.pgm\n"
     ]
    },
    {
     "name": "stderr",
     "output_type": "stream",
     "text": [
      "100%|█████████████████████████████████████████████████████████████████████████████████| 10/10 [00:00<00:00, 357.15it/s]\n",
      "  0%|                                                                                           | 0/10 [00:00<?, ?it/s]"
     ]
    },
    {
     "name": "stdout",
     "output_type": "stream",
     "text": [
      "1.pgm\n",
      "10.pgm\n",
      "2.pgm\n",
      "3.pgm\n",
      "4.pgm\n",
      "5.pgm\n",
      "6.pgm\n",
      "7.pgm\n",
      "8.pgm\n",
      "9.pgm\n"
     ]
    },
    {
     "name": "stderr",
     "output_type": "stream",
     "text": [
      "100%|█████████████████████████████████████████████████████████████████████████████████| 10/10 [00:00<00:00, 312.49it/s]\n",
      "  0%|                                                                                           | 0/10 [00:00<?, ?it/s]"
     ]
    },
    {
     "name": "stdout",
     "output_type": "stream",
     "text": [
      "1.pgm\n",
      "10.pgm\n",
      "2.pgm\n",
      "3.pgm\n",
      "4.pgm\n",
      "5.pgm\n",
      "6.pgm\n",
      "7.pgm\n",
      "8.pgm\n",
      "9.pgm\n"
     ]
    },
    {
     "name": "stderr",
     "output_type": "stream",
     "text": [
      "100%|█████████████████████████████████████████████████████████████████████████████████| 10/10 [00:00<00:00, 357.14it/s]\n",
      "  0%|                                                                                           | 0/10 [00:00<?, ?it/s]"
     ]
    },
    {
     "name": "stdout",
     "output_type": "stream",
     "text": [
      "1.pgm\n",
      "10.pgm\n",
      "2.pgm\n",
      "3.pgm\n",
      "4.pgm\n",
      "5.pgm\n",
      "6.pgm\n",
      "7.pgm\n",
      "8.pgm\n",
      "9.pgm\n"
     ]
    },
    {
     "name": "stderr",
     "output_type": "stream",
     "text": [
      "100%|█████████████████████████████████████████████████████████████████████████████████| 10/10 [00:00<00:00, 312.52it/s]\n",
      "  0%|                                                                                           | 0/10 [00:00<?, ?it/s]"
     ]
    },
    {
     "name": "stdout",
     "output_type": "stream",
     "text": [
      "1.pgm\n",
      "10.pgm\n",
      "2.pgm\n",
      "3.pgm\n",
      "4.pgm\n",
      "5.pgm\n",
      "6.pgm\n",
      "7.pgm\n",
      "8.pgm\n",
      "9.pgm\n"
     ]
    },
    {
     "name": "stderr",
     "output_type": "stream",
     "text": [
      "100%|█████████████████████████████████████████████████████████████████████████████████| 10/10 [00:00<00:00, 277.77it/s]\n",
      "  0%|                                                                                           | 0/10 [00:00<?, ?it/s]"
     ]
    },
    {
     "name": "stdout",
     "output_type": "stream",
     "text": [
      "1.pgm\n",
      "10.pgm\n",
      "2.pgm\n",
      "3.pgm\n",
      "4.pgm\n",
      "5.pgm\n",
      "6.pgm\n",
      "7.pgm\n",
      "8.pgm\n",
      "9.pgm\n"
     ]
    },
    {
     "name": "stderr",
     "output_type": "stream",
     "text": [
      "100%|█████████████████████████████████████████████████████████████████████████████████| 10/10 [00:00<00:00, 312.50it/s]\n",
      "  0%|                                                                                           | 0/10 [00:00<?, ?it/s]"
     ]
    },
    {
     "name": "stdout",
     "output_type": "stream",
     "text": [
      "1.pgm\n",
      "10.pgm\n",
      "2.pgm\n",
      "3.pgm\n",
      "4.pgm\n",
      "5.pgm\n",
      "6.pgm\n",
      "7.pgm\n",
      "8.pgm\n",
      "9.pgm\n"
     ]
    },
    {
     "name": "stderr",
     "output_type": "stream",
     "text": [
      "100%|█████████████████████████████████████████████████████████████████████████████████| 10/10 [00:00<00:00, 277.76it/s]\n",
      "  0%|                                                                                           | 0/10 [00:00<?, ?it/s]"
     ]
    },
    {
     "name": "stdout",
     "output_type": "stream",
     "text": [
      "1.pgm\n",
      "10.pgm\n",
      "2.pgm\n",
      "3.pgm\n",
      "4.pgm\n",
      "5.pgm\n",
      "6.pgm\n",
      "7.pgm\n",
      "8.pgm\n",
      "9.pgm\n"
     ]
    },
    {
     "name": "stderr",
     "output_type": "stream",
     "text": [
      "100%|█████████████████████████████████████████████████████████████████████████████████| 10/10 [00:00<00:00, 312.49it/s]\n",
      "  0%|                                                                                           | 0/10 [00:00<?, ?it/s]"
     ]
    },
    {
     "name": "stdout",
     "output_type": "stream",
     "text": [
      "1.pgm\n",
      "10.pgm\n",
      "2.pgm\n",
      "3.pgm\n",
      "4.pgm\n",
      "5.pgm\n",
      "6.pgm\n",
      "7.pgm\n",
      "8.pgm\n",
      "9.pgm\n"
     ]
    },
    {
     "name": "stderr",
     "output_type": "stream",
     "text": [
      "100%|█████████████████████████████████████████████████████████████████████████████████| 10/10 [00:00<00:00, 312.49it/s]\n",
      "  0%|                                                                                           | 0/10 [00:00<?, ?it/s]"
     ]
    },
    {
     "name": "stdout",
     "output_type": "stream",
     "text": [
      "1.pgm\n",
      "10.pgm\n",
      "2.pgm\n",
      "3.pgm\n",
      "4.pgm\n",
      "5.pgm\n",
      "6.pgm\n",
      "7.pgm\n",
      "8.pgm\n",
      "9.pgm\n"
     ]
    },
    {
     "name": "stderr",
     "output_type": "stream",
     "text": [
      "100%|█████████████████████████████████████████████████████████████████████████████████| 10/10 [00:00<00:00, 312.51it/s]\n",
      "  0%|                                                                                           | 0/10 [00:00<?, ?it/s]"
     ]
    },
    {
     "name": "stdout",
     "output_type": "stream",
     "text": [
      "1.pgm\n",
      "10.pgm\n",
      "2.pgm\n",
      "3.pgm\n",
      "4.pgm\n",
      "5.pgm\n",
      "6.pgm\n",
      "7.pgm\n",
      "8.pgm\n",
      "9.pgm\n"
     ]
    },
    {
     "name": "stderr",
     "output_type": "stream",
     "text": [
      "100%|█████████████████████████████████████████████████████████████████████████████████| 10/10 [00:00<00:00, 277.78it/s]\n",
      "  0%|                                                                                           | 0/10 [00:00<?, ?it/s]"
     ]
    },
    {
     "name": "stdout",
     "output_type": "stream",
     "text": [
      "1.pgm\n",
      "10.pgm\n",
      "2.pgm\n",
      "3.pgm\n",
      "4.pgm\n",
      "5.pgm\n",
      "6.pgm\n",
      "7.pgm\n",
      "8.pgm\n",
      "9.pgm\n"
     ]
    },
    {
     "name": "stderr",
     "output_type": "stream",
     "text": [
      "100%|█████████████████████████████████████████████████████████████████████████████████| 10/10 [00:00<00:00, 312.46it/s]\n",
      "  0%|                                                                                           | 0/10 [00:00<?, ?it/s]"
     ]
    },
    {
     "name": "stdout",
     "output_type": "stream",
     "text": [
      "1.pgm\n",
      "10.pgm\n",
      "2.pgm\n",
      "3.pgm\n",
      "4.pgm\n",
      "5.pgm\n",
      "6.pgm\n",
      "7.pgm\n",
      "8.pgm\n",
      "9.pgm\n"
     ]
    },
    {
     "name": "stderr",
     "output_type": "stream",
     "text": [
      "100%|█████████████████████████████████████████████████████████████████████████████████| 10/10 [00:00<00:00, 277.77it/s]\n",
      "  0%|                                                                                           | 0/10 [00:00<?, ?it/s]"
     ]
    },
    {
     "name": "stdout",
     "output_type": "stream",
     "text": [
      "1.pgm\n",
      "10.pgm\n",
      "2.pgm\n",
      "3.pgm\n",
      "4.pgm\n",
      "5.pgm\n",
      "6.pgm\n",
      "7.pgm\n",
      "8.pgm\n",
      "9.pgm\n"
     ]
    },
    {
     "name": "stderr",
     "output_type": "stream",
     "text": [
      "100%|█████████████████████████████████████████████████████████████████████████████████| 10/10 [00:00<00:00, 208.33it/s]\n",
      "  0%|                                                                                           | 0/10 [00:00<?, ?it/s]"
     ]
    },
    {
     "name": "stdout",
     "output_type": "stream",
     "text": [
      "1.pgm\n",
      "10.pgm\n",
      "2.pgm\n",
      "3.pgm\n",
      "4.pgm\n",
      "5.pgm\n",
      "6.pgm\n",
      "7.pgm\n",
      "8.pgm\n",
      "9.pgm\n"
     ]
    },
    {
     "name": "stderr",
     "output_type": "stream",
     "text": [
      "100%|█████████████████████████████████████████████████████████████████████████████████| 10/10 [00:00<00:00, 227.27it/s]\n",
      "  0%|                                                                                           | 0/10 [00:00<?, ?it/s]"
     ]
    },
    {
     "name": "stdout",
     "output_type": "stream",
     "text": [
      "1.pgm\n",
      "10.pgm\n",
      "2.pgm\n",
      "3.pgm\n",
      "4.pgm\n",
      "5.pgm\n",
      "6.pgm\n",
      "7.pgm\n",
      "8.pgm\n",
      "9.pgm\n"
     ]
    },
    {
     "name": "stderr",
     "output_type": "stream",
     "text": [
      "100%|█████████████████████████████████████████████████████████████████████████████████| 10/10 [00:00<00:00, 208.33it/s]\n",
      "  0%|                                                                                           | 0/10 [00:00<?, ?it/s]"
     ]
    },
    {
     "name": "stdout",
     "output_type": "stream",
     "text": [
      "1.pgm\n",
      "10.pgm\n",
      "2.pgm\n",
      "3.pgm\n",
      "4.pgm\n",
      "5.pgm\n",
      "6.pgm\n",
      "7.pgm\n",
      "8.pgm\n",
      "9.pgm\n"
     ]
    },
    {
     "name": "stderr",
     "output_type": "stream",
     "text": [
      "100%|█████████████████████████████████████████████████████████████████████████████████| 10/10 [00:00<00:00, 208.33it/s]\n",
      "  0%|                                                                                           | 0/10 [00:00<?, ?it/s]"
     ]
    },
    {
     "name": "stdout",
     "output_type": "stream",
     "text": [
      "1.pgm\n",
      "10.pgm\n",
      "2.pgm\n",
      "3.pgm\n",
      "4.pgm\n",
      "5.pgm\n",
      "6.pgm\n",
      "7.pgm\n",
      "8.pgm\n",
      "9.pgm\n"
     ]
    },
    {
     "name": "stderr",
     "output_type": "stream",
     "text": [
      "100%|█████████████████████████████████████████████████████████████████████████████████| 10/10 [00:00<00:00, 192.34it/s]\n",
      "  0%|                                                                                           | 0/10 [00:00<?, ?it/s]"
     ]
    },
    {
     "name": "stdout",
     "output_type": "stream",
     "text": [
      "1.pgm\n",
      "10.pgm\n",
      "2.pgm\n",
      "3.pgm\n",
      "4.pgm\n",
      "5.pgm\n",
      "6.pgm\n",
      "7.pgm\n",
      "8.pgm\n",
      "9.pgm\n"
     ]
    },
    {
     "name": "stderr",
     "output_type": "stream",
     "text": [
      "100%|█████████████████████████████████████████████████████████████████████████████████| 10/10 [00:00<00:00, 208.34it/s]\n"
     ]
    }
   ],
   "source": [
    "create_training_data()"
   ]
  },
  {
   "cell_type": "code",
   "execution_count": 35,
   "metadata": {},
   "outputs": [],
   "source": [
    "training_data[0][0].shape\n",
    "height,weight=112,92 #because shape is(112,92)\n",
    "n_features = 92"
   ]
  },
  {
   "cell_type": "code",
   "execution_count": 36,
   "metadata": {},
   "outputs": [
    {
     "data": {
      "image/png": "[encoded data removed]",
      "text/plain": [
       "<Figure size 432x288 with 1 Axes>"
      ]
     },
     "metadata": {},
     "output_type": "display_data"
    }
   ],
   "source": [
    "plt.imshow(training_data[0][0])\n",
    "plt.show()"
   ]
  },
  {
   "cell_type": "code",
   "execution_count": 37,
   "metadata": {},
   "outputs": [],
   "source": [
    "#Flatten\n",
    "def flatten(train):\n",
    "    for i in range(len(train)):\n",
    "#         print(train[i][0])\n",
    "        train[i][0] = train[i][0].flatten()\n",
    "#         print(\"Flatten\",train[i][0])"
   ]
  },
  {
   "cell_type": "code",
   "execution_count": 38,
   "metadata": {},
   "outputs": [],
   "source": [
    "flatten(training_data)"
   ]
  },
  {
   "cell_type": "code",
   "execution_count": 39,
   "metadata": {},
   "outputs": [],
   "source": [
    "#standardise the image\n",
    "def standardize(train):\n",
    "    for i in range(len(train)):\n",
    "        ar = np.asarray(train[i][0])\n",
    "        mean = np.mean(ar)\n",
    "        std = np.std(ar)\n",
    "        train[i][0] = (ar-mean)/std"
   ]
  },
  {
   "cell_type": "code",
   "execution_count": 40,
   "metadata": {},
   "outputs": [],
   "source": [
    "standardize(training_data)"
   ]
  },
  {
   "cell_type": "code",
   "execution_count": 41,
   "metadata": {},
   "outputs": [
    {
     "data": {
      "text/plain": [
       "(10304,)"
      ]
     },
     "execution_count": 41,
     "metadata": {},
     "output_type": "execute_result"
    }
   ],
   "source": [
    "training_data[0][0].shape\n"
   ]
  },
  {
   "cell_type": "code",
   "execution_count": 42,
   "metadata": {},
   "outputs": [],
   "source": [
    "#creating matrix\n",
    "def create_image_matrix(train_data):\n",
    "    images=[]\n",
    "    for image in train_data:\n",
    "        images.append(np.asarray(image[0]))\n",
    "    return images"
   ]
  },
  {
   "cell_type": "code",
   "execution_count": 43,
   "metadata": {},
   "outputs": [
    {
     "data": {
      "text/plain": [
       "matrix([[-1.50689808, -1.48814115, -1.56316886, ..., -1.525655  ,\n",
       "         -1.54441193, -1.54441193],\n",
       "        [-1.90456754, -1.90456754, -1.92384121, ..., -1.84674653,\n",
       "         -1.78892551, -1.92384121],\n",
       "        [-2.19837499, -2.19837499, -2.14840564, ..., -2.89794589,\n",
       "         -2.84797654, -2.84797654],\n",
       "        ...,\n",
       "        [ 0.02711986, -0.01999978,  0.12135913, ..., -0.82103362,\n",
       "         -0.82103362, -0.82103362],\n",
       "        [ 0.11315002, -0.02379156,  0.09032642, ..., -1.91815011,\n",
       "         -1.84967932, -1.82685572],\n",
       "        [-0.25755592, -0.23454694, -0.23454694, ..., -0.94782543,\n",
       "         -0.83278051, -1.03986137]])"
      ]
     },
     "execution_count": 43,
     "metadata": {},
     "output_type": "execute_result"
    }
   ],
   "source": [
    "images_matrix = np.matrix(create_image_matrix(training_data))\n",
    "images_matrix"
   ]
  },
  {
   "cell_type": "code",
   "execution_count": 44,
   "metadata": {},
   "outputs": [],
   "source": [
    "def extract_labels():\n",
    "    labels = []\n",
    "    for i in training_data:\n",
    "        labels.append(i[1])\n",
    "    return labels"
   ]
  },
  {
   "cell_type": "code",
   "execution_count": 45,
   "metadata": {},
   "outputs": [],
   "source": [
    "from sklearn.decomposition import PCA\n",
    "from sklearn.linear_model import LogisticRegression\n",
    "from sklearn.model_selection import train_test_split\n",
    "from sklearn.model_selection import GridSearchCV\n",
    "from sklearn.metrics import classification_report\n",
    "Y = np.asarray(extract_labels())\n",
    "X = images_matrix"
   ]
  },
  {
   "cell_type": "code",
   "execution_count": 46,
   "metadata": {},
   "outputs": [],
   "source": [
    "X_train,X_test,Y_train,Y_test = train_test_split(X,Y,test_size=0.1,random_state=0)\n"
   ]
  },
  {
   "cell_type": "code",
   "execution_count": 47,
   "metadata": {},
   "outputs": [],
   "source": [
    "\n",
    "pca = PCA(n_components=100).fit(X_train)\n",
    "eigenFaces = pca.components_.reshape((100,height,weight))\n",
    "X_train_pca,X_test_pca=pca.transform(X_train),pca.transform(X_test)"
   ]
  },
  {
   "cell_type": "code",
   "execution_count": 48,
   "metadata": {},
   "outputs": [
    {
     "data": {
      "text/plain": [
       "((360, 100), (40, 100))"
      ]
     },
     "execution_count": 48,
     "metadata": {},
     "output_type": "execute_result"
    }
   ],
   "source": [
    "X_train_pca.shape,X_test_pca.shape\n"
   ]
  },
  {
   "cell_type": "code",
   "execution_count": 49,
   "metadata": {},
   "outputs": [],
   "source": [
    "param_grid = {'C':range(1,5),'solver' :[\"newton-cg\"],'max_iter':np.asarray([10000])}\n",
    "clf = GridSearchCV(LogisticRegression(random_state=0,multi_class='ovr'),param_grid,cv=5)\n",
    "clf = clf.fit(X_train_pca,Y_train)"
   ]
  },
  {
   "cell_type": "code",
   "execution_count": 50,
   "metadata": {},
   "outputs": [
    {
     "data": {
      "text/plain": [
       "LogisticRegression(C=1, class_weight=None, dual=False, fit_intercept=True,\n",
       "          intercept_scaling=1, max_iter=10000, multi_class='ovr', n_jobs=1,\n",
       "          penalty='l2', random_state=0, solver='newton-cg', tol=0.0001,\n",
       "          verbose=0, warm_start=False)"
      ]
     },
     "execution_count": 50,
     "metadata": {},
     "output_type": "execute_result"
    }
   ],
   "source": [
    "clf.best_estimator_"
   ]
  },
  {
   "cell_type": "code",
   "execution_count": 51,
   "metadata": {},
   "outputs": [],
   "source": [
    "y_pred = clf.predict(X_test_pca)\n"
   ]
  },
  {
   "cell_type": "code",
   "execution_count": 52,
   "metadata": {},
   "outputs": [
    {
     "name": "stderr",
     "output_type": "stream",
     "text": [
      "C:\\Users\\lenovo\\Anaconda3\\lib\\site-packages\\sklearn\\metrics\\classification.py:1428: UserWarning: labels size, 26, does not match size of target_names, 40\n",
      "  .format(len(labels), len(target_names))\n"
     ]
    },
    {
     "name": "stdout",
     "output_type": "stream",
     "text": [
      "             precision    recall  f1-score   support\n",
      "\n",
      "         s1       1.00      1.00      1.00         2\n",
      "         s2       1.00      1.00      1.00         1\n",
      "         s3       1.00      1.00      1.00         1\n",
      "         s4       1.00      1.00      1.00         2\n",
      "         s5       1.00      1.00      1.00         2\n",
      "         s6       1.00      1.00      1.00         1\n",
      "         s7       1.00      1.00      1.00         1\n",
      "         s8       1.00      1.00      1.00         1\n",
      "         s9       1.00      1.00      1.00         1\n",
      "        s10       1.00      1.00      1.00         2\n",
      "        s11       1.00      1.00      1.00         2\n",
      "        s12       1.00      1.00      1.00         1\n",
      "        s13       1.00      1.00      1.00         5\n",
      "        s14       1.00      1.00      1.00         2\n",
      "        s15       1.00      1.00      1.00         1\n",
      "        s16       1.00      1.00      1.00         1\n",
      "        s17       1.00      1.00      1.00         1\n",
      "        s18       1.00      1.00      1.00         1\n",
      "        s19       1.00      1.00      1.00         2\n",
      "        s20       1.00      1.00      1.00         1\n",
      "        s21       1.00      1.00      1.00         1\n",
      "        s22       1.00      1.00      1.00         2\n",
      "        s23       1.00      1.00      1.00         1\n",
      "        s24       1.00      1.00      1.00         1\n",
      "        s25       1.00      1.00      1.00         3\n",
      "        s26       1.00      1.00      1.00         1\n",
      "\n",
      "avg / total       1.00      1.00      1.00        40\n",
      "\n"
     ]
    }
   ],
   "source": [
    "print(classification_report(Y_test,y_pred,target_names=FOLDER))\n"
   ]
  },
  {
   "cell_type": "code",
   "execution_count": null,
   "metadata": {},
   "outputs": [],
   "source": []
  },
  {
   "cell_type": "code",
   "execution_count": null,
   "metadata": {},
   "outputs": [],
   "source": []
  }
 ],
 "metadata": {
  "kernelspec": {
   "display_name": "Python 3",
   "language": "python",
   "name": "python3"
  },
  "language_info": {
   "codemirror_mode": {
    "name": "ipython",
    "version": 3
   },
   "file_extension": ".py",
   "mimetype": "text/x-python",
   "name": "python",
   "nbconvert_exporter": "python",
   "pygments_lexer": "ipython3",
   "version": "3.6.5"
  }
 },
 "nbformat": 4,
 "nbformat_minor": 2
}
